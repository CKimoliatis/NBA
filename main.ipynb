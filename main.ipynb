{
 "cells": [
  {
   "cell_type": "code",
   "execution_count": 57,
   "metadata": {},
   "outputs": [],
   "source": [
    "import pandas as pd\n",
    "from nba_api.stats.endpoints import PlayerGameLog\n",
    "pd.set_option('display.max_colwidth', None) # No limit for column width"
   ]
  },
  {
   "cell_type": "code",
   "execution_count": 58,
   "metadata": {},
   "outputs": [],
   "source": [
    "PLAYER_ID = 2544  # LeBron James\n",
    "SEASON = '2020-21'\n",
    "\n",
    "# 1) Call the NBA API\n",
    "gamelog = PlayerGameLog(player_id=PLAYER_ID, season=SEASON)\n",
    "df = gamelog.get_data_frames()[0]"
   ]
  },
  {
   "cell_type": "code",
   "execution_count": 60,
   "metadata": {},
   "outputs": [
    {
     "name": "stdout",
     "output_type": "stream",
     "text": [
      "   SEASON_ID  Player_ID     Game_ID     GAME_DATE      MATCHUP WL  MIN  FGM  FGA  FG_PCT  FG3M  FG3A  FG3_PCT  FTM  FTA  FT_PCT  OREB  DREB  REB  AST  STL  BLK  TOV  PF  PTS  PLUS_MINUS  VIDEO_AVAILABLE\n",
      "0      22020       2544  0022001072  MAY 16, 2021    LAL @ NOP  W   27   11   22   0.500     2     5    0.400    1    2   0.500     1     0    1    6    3    0    2   0   25          -2                1\n",
      "1      22020       2544  0022001061  MAY 15, 2021    LAL @ IND  W   28   11   22   0.500     1     4    0.250    1    2   0.500     3     4    7    8    0    0    4   2   24           7                1\n",
      "2      22020       2544  0022000974  MAY 02, 2021  LAL vs. TOR  L   28    6   11   0.545     2     5    0.400    5    7   0.714     0     7    7    6    0    0    5   2   19          -4                1\n",
      "3      22020       2544  0022000956  APR 30, 2021  LAL vs. SAC  L   32    6   12   0.500     1     5    0.200    3    5   0.600     1     7    8    7    2    1    5   1   16           5                1\n",
      "4      22020       2544  0022000640  MAR 20, 2021  LAL vs. ATL  L   11    3    6   0.500     1     2    0.500    3    3   1.000     0     1    1    4    0    0    1   0   10          -5                1\n",
      "5      22020       2544  0022000630  MAR 18, 2021  LAL vs. CHA  W   37   14   23   0.609     4     9    0.444    5    6   0.833     1     7    8    6    1    1    3   2   37           7                1\n",
      "6      22020       2544  0022000615  MAR 16, 2021  LAL vs. MIN  W   31    8   14   0.571     4     7    0.571    5    5   1.000     1    11   12   12    0    1    4   0   25           0                1\n",
      "7      22020       2544  0022000608  MAR 15, 2021    LAL @ GSW  W   30    8   13   0.615     2     4    0.500    4    6   0.667     1     9   10   11    0    0    6   3   22          33                1\n",
      "8      22020       2544  0022000585  MAR 12, 2021  LAL vs. IND  W   34    5   13   0.385     1     4    0.250    7   11   0.636     0     3    3   10    1    0    3   4   18          11                1\n",
      "9      22020       2544  0022000542  MAR 02, 2021  LAL vs. PHX  L   38   16   24   0.667     3     8    0.375    3    5   0.600     0     5    5    6    2    1    3   1   38           2                1\n",
      "10     22020       2544  0022000527  FEB 28, 2021  LAL vs. GSW  W   24    7   12   0.583     3     5    0.600    2    4   0.500     2     4    6    4    2    2    2   2   19          18                1\n",
      "11     22020       2544  0022000512  FEB 26, 2021  LAL vs. POR  W   36   11   21   0.524     2     5    0.400    4    8   0.500     1    10   11    7    4    3    2   1   28           9                1\n",
      "12     22020       2544  0022000497  FEB 24, 2021    LAL @ UTA  L   28    7   13   0.538     1     5    0.200    4    5   0.800     0     4    4    4    1    0    4   0   19         -20                1\n",
      "13     22020       2544  0022000479  FEB 22, 2021  LAL vs. WAS  L   43   14   29   0.483     2    10    0.200    1    3   0.333     0     9    9   13    1    0    8   2   31           3                1\n",
      "14     22020       2544  0022000463  FEB 20, 2021  LAL vs. MIA  L   37    7   21   0.333     1     8    0.125    4    4   1.000     1     8    9    9    1    1    5   3   19          11                1\n",
      "15     22020       2544  0022000446  FEB 18, 2021  LAL vs. BKN  L   33   14   23   0.609     1     6    0.167    3    6   0.500     0     8    8    7    0    0    3   1   32          -7                1\n",
      "16     22020       2544  0022000431  FEB 16, 2021    LAL @ MIN  W   38   13   20   0.650     1     4    0.250    3    4   0.750     0    13   13    7    0    1    5   1   30           4                1\n",
      "17     22020       2544  0022000416  FEB 14, 2021    LAL @ DEN  L   31    9   18   0.500     0     5    0.000    4    7   0.571     1     9   10    9    0    1    1   2   22         -17                1\n",
      "18     22020       2544  0022000403  FEB 12, 2021  LAL vs. MEM  W   34    9   15   0.600     1     4    0.250    9   14   0.643     1     8    9    8    2    0    5   2   28           8                1\n",
      "19     22020       2544  0022000390  FEB 10, 2021  LAL vs. OKC  W   41    9   20   0.450     3     9    0.333    4    4   1.000     0     6    6    7    2    0    5   2   25           6                1\n",
      "20     22020       2544  0022000374  FEB 08, 2021  LAL vs. OKC  W   43   11   22   0.500     2    10    0.200    4    5   0.800     0    14   14   12    2    2    5   3   28           8                1\n",
      "21     22020       2544  0022000361  FEB 06, 2021  LAL vs. DET  W   46   13   26   0.500     3     7    0.429    4    6   0.667     0     5    5   11    4    0    7   3   33           8                1\n",
      "22     22020       2544  0022000341  FEB 04, 2021  LAL vs. DEN  W   35   12   19   0.632     2     5    0.400    1    2   0.500     0    10   10   10    0    1    2   1   27          21                1\n",
      "23     22020       2544  0022000313  FEB 01, 2021    LAL @ ATL  W   38    5   12   0.417     2     6    0.333    9   11   0.818     0     7    7    9    2    1    2   0   21          10                1\n",
      "24     22020       2544  0022000302  JAN 30, 2021    LAL @ BOS  W   37    7   17   0.412     4    11    0.364    3    5   0.600     1     6    7    7    0    1    5   3   21          11                1\n",
      "25     22020       2544  0022000284  JAN 28, 2021    LAL @ DET  L   36    8   19   0.421     4     8    0.500    2    3   0.667     2     5    7   10    1    0    2   2   22          -9                1\n",
      "26     22020       2544  0022000276  JAN 27, 2021    LAL @ PHI  L   39   12   22   0.545     2     5    0.400    8   11   0.727     0     6    6    7    0    0    3   3   34           4                1\n",
      "27     22020       2544  0022000261  JAN 25, 2021    LAL @ CLE  W   38   19   26   0.731     7    11    0.636    1    2   0.500     0     8    8    6    2    2    3   1   46          11                1\n",
      "28     22020       2544  0022000245  JAN 23, 2021    LAL @ CHI  W   29    6   16   0.375     0     2    0.000    5    8   0.625     0    11   11    6    2    0    6   1   17           9                1\n",
      "29     22020       2544  0022000226  JAN 21, 2021    LAL @ MIL  W   38   13   25   0.520     6    10    0.600    2    2   1.000     1     5    6    8    1    1    3   2   34          15                1\n",
      "30     22020       2544  0022000212  JAN 18, 2021  LAL vs. GSW  L   38    6   16   0.375     2     7    0.286    5    8   0.625     0     5    5    5    1    0    5   1   19          -9                1\n",
      "31     22020       2544  0022000187  JAN 15, 2021  LAL vs. NOP  W   31    6   11   0.545     2     6    0.333    7    7   1.000     1     7    8   11    1    0    3   3   21          14                1\n",
      "32     22020       2544  0022000170  JAN 13, 2021    LAL @ OKC  W   27    9   20   0.450     5     8    0.625    3    4   0.750     0     6    6    7    0    0    2   2   26          14                1\n",
      "33     22020       2544  0022000161  JAN 12, 2021    LAL @ HOU  W   29   10   20   0.500     4     9    0.444    2    4   0.500     1     7    8    5    0    1    5   0   26          15                1\n",
      "34     22020       2544  0022000146  JAN 10, 2021    LAL @ HOU  W   30    7   15   0.467     1     6    0.167    3    6   0.500     1     6    7    7    1    1    2   2   18          10                1\n",
      "35     22020       2544  0022000131  JAN 08, 2021  LAL vs. CHI  W   34   11   21   0.524     0     5    0.000    6    8   0.750     0     7    7    7    0    0    4   1   28           9                1\n",
      "36     22020       2544  0022000121  JAN 07, 2021  LAL vs. SAS  L   35    8   15   0.533     4     7    0.571    7   11   0.636     0     6    6   12    0    0    4   3   27         -10                1\n",
      "37     22020       2544  0022000103  JAN 05, 2021    LAL @ MEM  W   34   11   20   0.550     1     4    0.250    3    3   1.000     2    10   12    7    1    1    6   0   26          20                1\n",
      "38     22020       2544  0022000087  JAN 03, 2021    LAL @ MEM  W   32    9   16   0.563     3     6    0.500    1    3   0.333     0    13   13    8    1    0    2   2   22          19                1\n",
      "39     22020       2544  0022000075  JAN 01, 2021    LAL @ SAS  W   36    8   22   0.364     3     7    0.429    7    7   1.000     1    10   11   10    2    0    4   0   26          18                1\n",
      "40     22020       2544  0022000060  DEC 30, 2020    LAL @ SAS  W   35   11   23   0.478     1     3    0.333    3    5   0.600     0     5    5    8    1    1    2   1   26          -1                1\n",
      "41     22020       2544  0022000045  DEC 28, 2020  LAL vs. POR  L   36   11   20   0.550     3     7    0.429    4    5   0.800     2     7    9    6    2    1    3   2   29           0                1\n",
      "42     22020       2544  0022000040  DEC 27, 2020  LAL vs. MIN  W   26    6   13   0.462     1     5    0.200    5    7   0.714     0     9    9    5    1    0    4   1   18          16                1\n",
      "43     22020       2544  0022000008  DEC 25, 2020  LAL vs. DAL  W   31    8   18   0.444     3     8    0.375    3    4   0.750     1     6    7   10    1    0    4   0   22          16                1\n",
      "44     22020       2544  0022000002  DEC 22, 2020  LAL vs. LAC  L   28    7   17   0.412     3     8    0.375    5    7   0.714     2     3    5    5    0    0    4   2   22           2                1\n"
     ]
    }
   ],
   "source": [
    "df\n",
    "print(df.to_string())  # in a standard script/terminal\n"
   ]
  },
  {
   "cell_type": "code",
   "execution_count": 61,
   "metadata": {},
   "outputs": [],
   "source": [
    "def parse_matchup(matchup_str):\n",
    "    \"\"\"\n",
    "    Returns a tuple: (HOME_AWAY, OPPONENT).\n",
    "    If the string contains 'vs.', it's a Home game.\n",
    "    If it contains '@', it's an Away game.\n",
    "    The opponent abbreviation is everything after 'vs.' or '@'.\n",
    "    \"\"\"\n",
    "    if 'vs.' in matchup_str:\n",
    "        home_away = 'Home'\n",
    "        opponent = matchup_str.split('vs.')[-1].strip()\n",
    "    else:  # Then it must have '@'\n",
    "        home_away = 'Away'\n",
    "        opponent = matchup_str.split('@')[-1].strip()\n",
    "    \n",
    "    return home_away, opponent\n"
   ]
  },
  {
   "cell_type": "code",
   "execution_count": 72,
   "metadata": {},
   "outputs": [
    {
     "name": "stdout",
     "output_type": "stream",
     "text": [
      "       Game_ID  HOME_AWAY OPPONENT  PTS  AVG_PTS_VS_OPP     GAME_DATE\n",
      "0   0022001072          0      NOP   25       23.000000  MAY 16, 2021\n",
      "1   0022001061          0      IND   24       21.000000  MAY 15, 2021\n",
      "2   0022000974          1      TOR   19       19.000000  MAY 02, 2021\n",
      "3   0022000956          1      SAC   16       16.000000  APR 30, 2021\n",
      "4   0022000640          1      ATL   10       15.500000  MAR 20, 2021\n",
      "5   0022000630          1      CHA   37       37.000000  MAR 18, 2021\n",
      "6   0022000615          1      MIN   25       24.333333  MAR 16, 2021\n",
      "7   0022000608          0      GSW   22       20.000000  MAR 15, 2021\n",
      "8   0022000585          1      IND   18       21.000000  MAR 12, 2021\n",
      "9   0022000542          1      PHX   38       38.000000  MAR 02, 2021\n",
      "10  0022000527          1      GSW   19       20.000000  FEB 28, 2021\n",
      "11  0022000512          1      POR   28       28.500000  FEB 26, 2021\n",
      "12  0022000497          0      UTA   19       19.000000  FEB 24, 2021\n",
      "13  0022000479          1      WAS   31       31.000000  FEB 22, 2021\n",
      "14  0022000463          1      MIA   19       19.000000  FEB 20, 2021\n",
      "15  0022000446          1      BKN   32       32.000000  FEB 18, 2021\n",
      "16  0022000431          0      MIN   30       24.333333  FEB 16, 2021\n",
      "17  0022000416          0      DEN   22       24.500000  FEB 14, 2021\n",
      "18  0022000403          1      MEM   28       25.333333  FEB 12, 2021\n",
      "19  0022000390          1      OKC   25       26.333333  FEB 10, 2021\n",
      "20  0022000374          1      OKC   28       26.333333  FEB 08, 2021\n",
      "21  0022000361          1      DET   33       27.500000  FEB 06, 2021\n",
      "22  0022000341          1      DEN   27       24.500000  FEB 04, 2021\n",
      "23  0022000313          0      ATL   21       15.500000  FEB 01, 2021\n",
      "24  0022000302          0      BOS   21       21.000000  JAN 30, 2021\n",
      "25  0022000284          0      DET   22       27.500000  JAN 28, 2021\n",
      "26  0022000276          0      PHI   34       34.000000  JAN 27, 2021\n",
      "27  0022000261          0      CLE   46       46.000000  JAN 25, 2021\n",
      "28  0022000245          0      CHI   17       22.500000  JAN 23, 2021\n",
      "29  0022000226          0      MIL   34       34.000000  JAN 21, 2021\n",
      "30  0022000212          1      GSW   19       20.000000  JAN 18, 2021\n",
      "31  0022000187          1      NOP   21       23.000000  JAN 15, 2021\n",
      "32  0022000170          0      OKC   26       26.333333  JAN 13, 2021\n",
      "33  0022000161          0      HOU   26       22.000000  JAN 12, 2021\n",
      "34  0022000146          0      HOU   18       22.000000  JAN 10, 2021\n",
      "35  0022000131          1      CHI   28       22.500000  JAN 08, 2021\n",
      "36  0022000121          1      SAS   27       26.333333  JAN 07, 2021\n",
      "37  0022000103          0      MEM   26       25.333333  JAN 05, 2021\n",
      "38  0022000087          0      MEM   22       25.333333  JAN 03, 2021\n",
      "39  0022000075          0      SAS   26       26.333333  JAN 01, 2021\n",
      "40  0022000060          0      SAS   26       26.333333  DEC 30, 2020\n",
      "41  0022000045          1      POR   29       28.500000  DEC 28, 2020\n",
      "42  0022000040          1      MIN   18       24.333333  DEC 27, 2020\n",
      "43  0022000008          1      DAL   22       22.000000  DEC 25, 2020\n",
      "44  0022000002          1      LAC   22       22.000000  DEC 22, 2020\n"
     ]
    }
   ],
   "source": [
    "df_new = pd.DataFrame()\n",
    "df_new['Game_ID'] = df['Game_ID']\n",
    "df_new['HOME_AWAY'], df_new['OPPONENT'] = zip(*df['MATCHUP'].apply(parse_matchup))\n",
    "df_new['HOME_AWAY'] = df_new['HOME_AWAY'].map({'Home':1, 'Away':0}) #Home = 1 Away = 0\n",
    "df_new['PTS'] = df['PTS']\n",
    "avg_pts_by_opp = df_new.groupby('OPPONENT')['PTS'].mean().reset_index(name='AVG_PTS_VS_OPP')\n",
    "df_new = df_new.merge(avg_pts_by_opp, on='OPPONENT', how='left')\n",
    "df_new['GAME_DATE'] = df['GAME_DATE']\n",
    "\n",
    "print(df_new)"
   ]
  }
 ],
 "metadata": {
  "kernelspec": {
   "display_name": "myenv",
   "language": "python",
   "name": "python3"
  },
  "language_info": {
   "codemirror_mode": {
    "name": "ipython",
    "version": 3
   },
   "file_extension": ".py",
   "mimetype": "text/x-python",
   "name": "python",
   "nbconvert_exporter": "python",
   "pygments_lexer": "ipython3",
   "version": "3.11.5"
  }
 },
 "nbformat": 4,
 "nbformat_minor": 2
}
